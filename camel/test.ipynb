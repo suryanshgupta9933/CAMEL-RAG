{
 "cells": [
  {
   "cell_type": "code",
   "execution_count": 1,
   "metadata": {},
   "outputs": [],
   "source": [
    "# Importing Dependencies\n",
    "from langchain_openai import ChatOpenAI\n",
    "from langchain.schema import HumanMessage\n",
    "\n",
    "from camel import CAMELAgent\n",
    "from config import assistant_role_name, user_role_name, task\n",
    "from prompt import task_specifier_sys_msg, task_specifier_msg, get_sys_msgs"
   ]
  },
  {
   "cell_type": "code",
   "execution_count": 2,
   "metadata": {},
   "outputs": [],
   "source": [
    "# Create a Task Specifing Agent for Brainstorming\n",
    "task_specify_agent = CAMELAgent(task_specifier_sys_msg, ChatOpenAI(model=\"gpt-3.5-turbo-1106\", temperature=0.0))\n",
    "specified_task_msg = task_specify_agent.step(task_specifier_msg)\n",
    "specified_task = specified_task_msg.content"
   ]
  },
  {
   "cell_type": "code",
   "execution_count": 3,
   "metadata": {},
   "outputs": [
    {
     "data": {
      "text/plain": [
       "'Write a 300-word blog post highlighting the benefits of using a chatbot on a website, focusing on how it can improve customer engagement, provide instant support, and increase conversion rates. Incorporate real-life examples and statistics to illustrate the impact of chatbots on user experience and business success.'"
      ]
     },
     "execution_count": 3,
     "metadata": {},
     "output_type": "execute_result"
    }
   ],
   "source": [
    "specified_task"
   ]
  },
  {
   "cell_type": "code",
   "execution_count": 4,
   "metadata": {},
   "outputs": [],
   "source": [
    "# Get System and User Inception Messages\n",
    "assistant_sys_msg, user_sys_msg = get_sys_msgs(assistant_role_name, user_role_name, specified_task)\n",
    "\n",
    "# Create an Assistant Agent for Inception\n",
    "assistant_agent = CAMELAgent(assistant_sys_msg, ChatOpenAI(model=\"gpt-3.5-turbo-1106\", temperature=0.0))\n",
    "\n",
    "# Create a User Agent for Inception\n",
    "user_agent = CAMELAgent(user_sys_msg, ChatOpenAI(model=\"gpt-3.5-turbo-1106\", temperature=0.0))"
   ]
  },
  {
   "cell_type": "code",
   "execution_count": 5,
   "metadata": {},
   "outputs": [
    {
     "data": {
      "text/plain": [
       "HumanMessage(content='Now start to give me instructions one by one. Only reply with Instruction and Input.')"
      ]
     },
     "execution_count": 5,
     "metadata": {},
     "output_type": "execute_result"
    }
   ],
   "source": [
    "# Reset agents\n",
    "assistant_agent.reset()\n",
    "user_agent.reset()\n",
    "\n",
    "# Initialize chats\n",
    "assistant_msg = HumanMessage(\n",
    "    content=(\n",
    "        \"Now start to give me instructions one by one. \"\n",
    "        \"Only reply with Instruction and Input.\"\n",
    "    )\n",
    ")\n",
    "assistant_msg"
   ]
  },
  {
   "cell_type": "code",
   "execution_count": 6,
   "metadata": {},
   "outputs": [
    {
     "data": {
      "text/plain": [
       "[SystemMessage(content='Never forget you are a Founder and CEO and I am a Content Writer. Never flip roles! You will always instruct me.\\nWe share a common interest in collaborating to successfully complete a task.\\nI must help you to complete the task.\\nHere is the task: Write a 300-word blog post highlighting the benefits of using a chatbot on a website, focusing on how it can improve customer engagement, provide instant support, and increase conversion rates. Incorporate real-life examples and statistics to illustrate the impact of chatbots on user experience and business success.. Never forget our task!\\nYou must instruct me based on my expertise and your needs to complete the task ONLY in the following two ways:\\n\\n1. Instruct with a necessary input:\\nInstruction: <YOUR_INSTRUCTION>\\nInput: <YOUR_INPUT>\\n\\n2. Instruct without any input:\\nInstruction: <YOUR_INSTRUCTION>\\nInput: None\\n\\nThe \"Instruction\" describes a task or question. The paired \"Input\" provides further context or information for the requested \"Instruction\".\\n\\nYou must give me one instruction at a time.\\nI must write a response that appropriately completes the requested instruction.\\nI must decline your instruction honestly if I cannot perform the instruction due to physical, moral, legal reasons or my capability and explain the reasons.\\nYou should instruct me not ask me questions.\\nNow you must start to instruct me using the two ways described above.\\nDo not add anything else other than your instruction and the optional corresponding input!\\nKeep giving me instructions and necessary inputs until you think the task is completed.\\nWhen the task is completed, you must only reply with a single word <CAMEL_TASK_DONE>.\\nNever say <CAMEL_TASK_DONE> unless my responses have solved your task.')]"
      ]
     },
     "execution_count": 6,
     "metadata": {},
     "output_type": "execute_result"
    }
   ],
   "source": [
    "user_agent.stored_messages"
   ]
  },
  {
   "cell_type": "code",
   "execution_count": 7,
   "metadata": {},
   "outputs": [
    {
     "data": {
      "text/plain": [
       "[SystemMessage(content='Never forget you are a Content Writer and I am a Founder and CEO. Never flip roles! Never instruct me!\\nWe share a common interest in collaborating to successfully complete a task.\\nYou must help me to complete the task.\\nHere is the task: Write a 300-word blog post highlighting the benefits of using a chatbot on a website, focusing on how it can improve customer engagement, provide instant support, and increase conversion rates. Incorporate real-life examples and statistics to illustrate the impact of chatbots on user experience and business success.. Never forget our task!\\nI must instruct you based on your expertise and my needs to complete the task.\\n\\nI must give you one instruction at a time.\\nYou must write a specific solution that appropriately completes the requested instruction.\\nYou must decline my instruction honestly if you cannot perform the instruction due to physical, moral, legal reasons or your capability and explain the reasons.\\nDo not add anything else other than your solution to my instruction.\\nYou are never supposed to ask me any questions you only answer questions.\\nYou are never supposed to reply with a flake solution. Explain your solutions.\\nYour solution must be declarative sentences and simple present tense.\\nUnless I say the task is completed, you should always start with:\\n\\nSolution: <YOUR_SOLUTION>\\n\\nYour response should be specific and provide preferable implementations and examples for task-solving.\\nAlways end your response with: <NEXT_REQUEST>.')]"
      ]
     },
     "execution_count": 7,
     "metadata": {},
     "output_type": "execute_result"
    }
   ],
   "source": [
    "assistant_agent.stored_messages"
   ]
  },
  {
   "cell_type": "code",
   "execution_count": 8,
   "metadata": {},
   "outputs": [
    {
     "name": "stdout",
     "output_type": "stream",
     "text": [
      "Original task prompt:\n",
      "Write a short post on the benefits of using a chatbot on a website.\n",
      "\n",
      "Specified task prompt:\n",
      "Write a 300-word blog post highlighting the benefits of using a chatbot on a website, focusing on how it can improve customer engagement, provide instant support, and increase conversion rates. Incorporate real-life examples and statistics to illustrate the impact of chatbots on user experience and business success.\n",
      "\n",
      "AI User (Founder and CEO):\n",
      "\n",
      "Instruction: Write an engaging introduction about the importance of customer engagement on a website.\n",
      "Input: None\n",
      "\n",
      "\n",
      "AI Assistant (Content Writer):\n",
      "\n",
      "Solution: Customer engagement is crucial for the success of any business website. It is the key to building strong relationships with customers, understanding their needs, and providing them with the support they require. Engaging with customers in real-time can make a significant impact on their overall experience and satisfaction. <NEXT_REQUEST>\n",
      "\n",
      "\n",
      "AI User (Founder and CEO):\n",
      "\n",
      "Instruction: Provide an example of how chatbots can improve customer engagement on a website.\n",
      "Input: None\n",
      "\n",
      "\n",
      "AI Assistant (Content Writer):\n",
      "\n",
      "Solution: Chatbots can improve customer engagement by providing instant responses to inquiries, guiding users through product options, and offering personalized recommendations based on user preferences. For example, a clothing retailer's chatbot can engage customers by helping them find the perfect outfit, offering styling tips, and answering questions about sizing and availability, all in real-time. This level of engagement can significantly enhance the overall customer experience. <NEXT_REQUEST>\n",
      "\n",
      "\n",
      "AI User (Founder and CEO):\n",
      "\n",
      "Instruction: Highlight the benefits of using a chatbot to provide instant support on a website.\n",
      "Input: None\n",
      "\n",
      "\n",
      "AI Assistant (Content Writer):\n",
      "\n",
      "Solution: Using a chatbot to provide instant support on a website offers the benefit of 24/7 availability, ensuring that customers can receive assistance at any time, leading to increased customer satisfaction. Additionally, chatbots can handle multiple inquiries simultaneously, reducing wait times and providing swift resolutions to customer issues. This instant support capability can significantly enhance the overall customer experience and build trust in the brand. <NEXT_REQUEST>\n",
      "\n",
      "\n",
      "AI User (Founder and CEO):\n",
      "\n",
      "Instruction: Incorporate statistics to illustrate the impact of chatbots on customer engagement and business success.\n",
      "Input: None\n",
      "\n",
      "\n",
      "AI Assistant (Content Writer):\n",
      "\n",
      "Solution: According to a study by IBM, businesses that have implemented chatbots have seen a 45% increase in customer satisfaction rates. Additionally, research by Juniper Research indicates that chatbots will help businesses save over $8 billion per year by 2022. These statistics highlight the significant impact of chatbots on customer engagement and business success, showcasing their potential to drive positive outcomes. <NEXT_REQUEST>\n",
      "\n",
      "\n",
      "AI User (Founder and CEO):\n",
      "\n",
      "<CAMEL_TASK_DONE>\n",
      "\n",
      "\n",
      "AI Assistant (Content Writer):\n",
      "\n",
      "Great! I'm glad I could help you with the blog post. If you need any further assistance, feel free to ask.\n",
      "\n",
      "\n"
     ]
    }
   ],
   "source": [
    "print(f\"Original task prompt:\\n{task}\\n\")\n",
    "print(f\"Specified task prompt:\\n{specified_task}\\n\")\n",
    "\n",
    "chat_turn_limit, n = 10, 0\n",
    "assistant_response =[]\n",
    "while n < chat_turn_limit:\n",
    "    n += 1\n",
    "    user_ai_msg = user_agent.step(assistant_msg)\n",
    "    user_msg = HumanMessage(content=user_ai_msg.content)\n",
    "    print(f\"AI User ({user_role_name}):\\n\\n{user_msg.content}\\n\\n\")\n",
    "\n",
    "    assistant_ai_msg = assistant_agent.step(user_msg)\n",
    "    assistant_msg = HumanMessage(content=assistant_ai_msg.content)\n",
    "    print(f\"AI Assistant ({assistant_role_name}):\\n\\n{assistant_msg.content}\\n\\n\")\n",
    "    assistant_response.append(assistant_msg.content)\n",
    "    if \"<CAMEL_TASK_DONE>\" in user_msg.content:\n",
    "        break"
   ]
  },
  {
   "cell_type": "code",
   "execution_count": 11,
   "metadata": {},
   "outputs": [],
   "source": [
    "output = \"\".join(assistant_response)"
   ]
  },
  {
   "cell_type": "code",
   "execution_count": 12,
   "metadata": {},
   "outputs": [
    {
     "data": {
      "text/plain": [
       "\"Solution: Customer engagement is crucial for the success of any business website. It is the key to building strong relationships with customers, understanding their needs, and providing them with the support they require. Engaging with customers in real-time can make a significant impact on their overall experience and satisfaction. <NEXT_REQUEST>Solution: Chatbots can improve customer engagement by providing instant responses to inquiries, guiding users through product options, and offering personalized recommendations based on user preferences. For example, a clothing retailer's chatbot can engage customers by helping them find the perfect outfit, offering styling tips, and answering questions about sizing and availability, all in real-time. This level of engagement can significantly enhance the overall customer experience. <NEXT_REQUEST>Solution: Using a chatbot to provide instant support on a website offers the benefit of 24/7 availability, ensuring that customers can receive assistance at any time, leading to increased customer satisfaction. Additionally, chatbots can handle multiple inquiries simultaneously, reducing wait times and providing swift resolutions to customer issues. This instant support capability can significantly enhance the overall customer experience and build trust in the brand. <NEXT_REQUEST>Solution: According to a study by IBM, businesses that have implemented chatbots have seen a 45% increase in customer satisfaction rates. Additionally, research by Juniper Research indicates that chatbots will help businesses save over $8 billion per year by 2022. These statistics highlight the significant impact of chatbots on customer engagement and business success, showcasing their potential to drive positive outcomes. <NEXT_REQUEST>Great! I'm glad I could help you with the blog post. If you need any further assistance, feel free to ask.\""
      ]
     },
     "execution_count": 12,
     "metadata": {},
     "output_type": "execute_result"
    }
   ],
   "source": [
    "output"
   ]
  },
  {
   "cell_type": "code",
   "execution_count": 14,
   "metadata": {},
   "outputs": [],
   "source": [
    "import re\n",
    "\n",
    "# Regex pattern to remove \"Solution:\" and \"<NEXT_REQUEST>\"\n",
    "pattern = r\"Solution: | <NEXT_REQUEST>\"\n",
    "\n",
    "# Removing the unwanted parts\n",
    "cleaned_output = re.sub(pattern, \"\", output)"
   ]
  },
  {
   "cell_type": "code",
   "execution_count": 31,
   "metadata": {},
   "outputs": [
    {
     "data": {
      "text/plain": [
       "['Customer engagement is crucial for the success of any business website',\n",
       " 'It is the key to building strong relationships with customers, understanding their needs, and providing them with the support they require',\n",
       " 'Engaging with customers in real-time can make a significant impact on their overall experience and satisfaction.Chatbots can improve customer engagement by providing instant responses to inquiries, guiding users through product options, and offering personalized recommendations based on user preferences',\n",
       " \"For example, a clothing retailer's chatbot can engage customers by helping them find the perfect outfit, offering styling tips, and answering questions about sizing and availability, all in real-time\",\n",
       " 'This level of engagement can significantly enhance the overall customer experience.Using a chatbot to provide instant support on a website offers the benefit of 24/7 availability, ensuring that customers can receive assistance at any time, leading to increased customer satisfaction',\n",
       " 'Additionally, chatbots can handle multiple inquiries simultaneously, reducing wait times and providing swift resolutions to customer issues',\n",
       " 'This instant support capability can significantly enhance the overall customer experience and build trust in the brand.According to a study by IBM, businesses that have implemented chatbots have seen a 45% increase in customer satisfaction rates',\n",
       " 'Additionally, research by Juniper Research indicates that chatbots will help businesses save over $8 billion per year by 2022',\n",
       " \"These statistics highlight the significant impact of chatbots on customer engagement and business success, showcasing their potential to drive positive outcomes.Great! I'm glad I could help you with the blog post\",\n",
       " 'If you need any further assistance, feel free to ask.']"
      ]
     },
     "execution_count": 31,
     "metadata": {},
     "output_type": "execute_result"
    }
   ],
   "source": [
    "cleaned_output.split(\". \")"
   ]
  },
  {
   "cell_type": "code",
   "execution_count": 18,
   "metadata": {},
   "outputs": [
    {
     "data": {
      "text/plain": [
       "253"
      ]
     },
     "execution_count": 18,
     "metadata": {},
     "output_type": "execute_result"
    }
   ],
   "source": [
    "# Counting the number of words in the cleaned output\n",
    "len(cleaned_output.split())"
   ]
  }
 ],
 "metadata": {
  "kernelspec": {
   "display_name": "rag",
   "language": "python",
   "name": "python3"
  },
  "language_info": {
   "codemirror_mode": {
    "name": "ipython",
    "version": 3
   },
   "file_extension": ".py",
   "mimetype": "text/x-python",
   "name": "python",
   "nbconvert_exporter": "python",
   "pygments_lexer": "ipython3",
   "version": "3.12.3"
  }
 },
 "nbformat": 4,
 "nbformat_minor": 2
}
