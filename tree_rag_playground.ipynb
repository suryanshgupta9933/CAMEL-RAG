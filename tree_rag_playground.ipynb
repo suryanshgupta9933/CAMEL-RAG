{
 "cells": [
  {
   "cell_type": "code",
   "execution_count": 1,
   "metadata": {},
   "outputs": [],
   "source": [
    "import os\n",
    "from dotenv import load_dotenv\n",
    "\n",
    "from tree_rag import get_llm_chain, get_entity_retriever_prompt, get_search_terms_retriever_prompt, get_filtered_urls"
   ]
  },
  {
   "cell_type": "code",
   "execution_count": 2,
   "metadata": {},
   "outputs": [],
   "source": [
    "# Load the Environment Variables\n",
    "load_dotenv()\n",
    "# Set up the OpenAI API key\n",
    "os.environ[\"OPENAI_API_KEY\"] = os.environ.get(\"OPENAI_API_KEY\", \"\")"
   ]
  },
  {
   "cell_type": "code",
   "execution_count": 3,
   "metadata": {},
   "outputs": [],
   "source": [
    "user_insights = \"I want to know about the integration of AI in healthcare, it's possible benefits and limitations and practical implementations.\""
   ]
  },
  {
   "cell_type": "code",
   "execution_count": 4,
   "metadata": {},
   "outputs": [],
   "source": [
    "entity_prompt = get_entity_retriever_prompt()\n",
    "llm = get_llm_chain(entity_prompt)"
   ]
  },
  {
   "cell_type": "code",
   "execution_count": 5,
   "metadata": {},
   "outputs": [
    {
     "name": "stderr",
     "output_type": "stream",
     "text": [
      "2024-06-05 21:09:22,725 - INFO - HTTP Request: POST https://api.openai.com/v1/chat/completions \"HTTP/1.1 200 OK\"\n"
     ]
    },
    {
     "data": {
      "text/plain": [
       "\"['AI in healthcare', 'benefits', 'limitations', 'practical implementations']\""
      ]
     },
     "execution_count": 5,
     "metadata": {},
     "output_type": "execute_result"
    }
   ],
   "source": [
    "response = llm.invoke({\"user_insights\": user_insights})\n",
    "response.content"
   ]
  },
  {
   "cell_type": "code",
   "execution_count": 6,
   "metadata": {},
   "outputs": [],
   "source": [
    "key_entities = response.content"
   ]
  },
  {
   "cell_type": "code",
   "execution_count": 7,
   "metadata": {},
   "outputs": [],
   "source": [
    "search_terms_prompt = get_search_terms_retriever_prompt()\n",
    "llm = get_llm_chain(search_terms_prompt)"
   ]
  },
  {
   "cell_type": "code",
   "execution_count": 8,
   "metadata": {},
   "outputs": [
    {
     "name": "stderr",
     "output_type": "stream",
     "text": [
      "2024-06-05 21:09:24,292 - INFO - HTTP Request: POST https://api.openai.com/v1/chat/completions \"HTTP/1.1 200 OK\"\n"
     ]
    },
    {
     "data": {
      "text/plain": [
       "\"['benefits of AI in healthcare', 'practical implementations of AI in healthcare', 'limitations of AI in healthcare']\""
      ]
     },
     "execution_count": 8,
     "metadata": {},
     "output_type": "execute_result"
    }
   ],
   "source": [
    "response = llm.invoke({\"key_entities\": key_entities})\n",
    "response.content"
   ]
  },
  {
   "cell_type": "code",
   "execution_count": 21,
   "metadata": {},
   "outputs": [
    {
     "data": {
      "text/plain": [
       "['benefits of AI in healthcare',\n",
       " 'practical implementations of AI in healthcare',\n",
       " 'limitations of AI in healthcare']"
      ]
     },
     "execution_count": 21,
     "metadata": {},
     "output_type": "execute_result"
    }
   ],
   "source": [
    "import ast\n",
    "search_terms = ast.literal_eval(response.content)\n",
    "search_terms"
   ]
  },
  {
   "cell_type": "code",
   "execution_count": 23,
   "metadata": {},
   "outputs": [],
   "source": [
    "url_sources = []\n",
    "for search_term in search_terms:\n",
    "    url_sources += get_filtered_urls(search_term)"
   ]
  },
  {
   "cell_type": "code",
   "execution_count": 26,
   "metadata": {},
   "outputs": [
    {
     "data": {
      "text/plain": [
       "['https://emeritus.org/blog/ai-and-ml-benefits-of-ai-in-healthcare/',\n",
       " 'https://www.ibm.com/think/insights/ai-healthcare-benefits',\n",
       " 'https://www.ncbi.nlm.nih.gov/pmc/articles/PMC6616181/',\n",
       " 'https://d3lkc3n5th01x7.cloudfront.net/wp-content/uploads/2023/02/15020226/AI-in-Healthcare-3.png?sa=X&ved=2ahUKEwiIosfK58SGAxUJa2wGHQmkDxEQ_B16BAgAEAI',\n",
       " 'https://www.leewayhertz.com/ai-use-cases-in-healthcare/',\n",
       " 'https://www.ncbi.nlm.nih.gov/pmc/articles/PMC9908503/',\n",
       " 'https://www.ncbi.nlm.nih.gov/pmc/articles/PMC9908503/#Abs1title',\n",
       " 'https://www.ncbi.nlm.nih.gov/pmc/articles/PMC9908503/#Sec1title']"
      ]
     },
     "execution_count": 26,
     "metadata": {},
     "output_type": "execute_result"
    }
   ],
   "source": [
    "url_sources"
   ]
  },
  {
   "cell_type": "code",
   "execution_count": 27,
   "metadata": {},
   "outputs": [
    {
     "data": {
      "text/plain": [
       "8"
      ]
     },
     "execution_count": 27,
     "metadata": {},
     "output_type": "execute_result"
    }
   ],
   "source": [
    "len(url_sources)"
   ]
  },
  {
   "cell_type": "markdown",
   "metadata": {},
   "source": [
    "### So, 3 search results lead to 8 articles.\n",
    "### We should not treat all the articles as independent, because they are related to the same search result.\n",
    "### We should keep the branches seperate for each search_term, this way we ensure that we are covering each aspect of the user insights.\n",
    "### Merging all the urls together and then performing operations will give us half baked results."
   ]
  }
 ],
 "metadata": {
  "kernelspec": {
   "display_name": "rag",
   "language": "python",
   "name": "python3"
  },
  "language_info": {
   "codemirror_mode": {
    "name": "ipython",
    "version": 3
   },
   "file_extension": ".py",
   "mimetype": "text/x-python",
   "name": "python",
   "nbconvert_exporter": "python",
   "pygments_lexer": "ipython3",
   "version": "3.12.3"
  }
 },
 "nbformat": 4,
 "nbformat_minor": 2
}
